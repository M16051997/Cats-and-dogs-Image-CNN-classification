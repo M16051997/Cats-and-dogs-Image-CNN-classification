{
 "cells": [
  {
   "cell_type": "markdown",
   "metadata": {},
   "source": [
    "# The task is to build a model to predict the category of an animal: dog or cat?"
   ]
  },
  {
   "cell_type": "code",
   "execution_count": 2,
   "metadata": {
    "id": "wd5UUJ8ap6vR"
   },
   "outputs": [],
   "source": [
    "# 4 steps are required to build a CNN: \n",
    "#1.Convolution, \n",
    "#2.Max pooling, \n",
    "#3.Flattening, and \n",
    "#4.Full connection\n",
    "\n",
    "\n",
    "# Importing the Keras libraries and packages\n",
    "from keras.models import Sequential\n",
    "from keras.layers import Conv2D\n",
    "from keras.layers import MaxPooling2D\n",
    "from keras.layers import Flatten\n",
    "from keras.layers import Dense\n",
    "from keras.preprocessing.image import ImageDataGenerator"
   ]
  },
  {
   "cell_type": "code",
   "execution_count": 3,
   "metadata": {
    "id": "JHYAjG2CqBbw"
   },
   "outputs": [],
   "source": [
    "classifier = Sequential()\n",
    "# Convolution is a linear operation involving the multiplication of weights with the input.\n",
    "# The multiplication is performed between an array of input data and a 2D array of weights known as filter or kernel. \n",
    "# It is represented like ana array of 0 and 1\n",
    "classifier.add(Conv2D(32, (3, 3), activation = 'relu'))\n",
    "\n",
    "#The pooling operation provides spatial variance making the system capable of recognizing an object with some varied appearance.\n",
    "# pooling basically helps reduce the number of parameters and computations present in the network. \n",
    "classifier.add(MaxPooling2D(pool_size = (2, 2)))\n",
    "\n",
    "#The output from the final Pooling layer which is flattened is the input of the fully connected layer.\n",
    "classifier.add(Flatten())\n",
    "classifier.add(Dense(units = 128, activation = 'relu'))\n",
    "classifier.add(Dense(units = 1, activation = 'sigmoid'))"
   ]
  },
  {
   "cell_type": "code",
   "execution_count": 4,
   "metadata": {
    "id": "rvHe3xrbqBqO"
   },
   "outputs": [],
   "source": [
    "# Compile the CNN by choosing an SGD algorithm, a loss function, and performance metrics. \n",
    "# We use binary_crossentropy for binary classification, and use categorical_crossentropy for multiple classification problem.\n",
    "\n",
    "classifier.compile(optimizer = 'adam', loss = 'binary_crossentropy', metrics = ['accuracy'])"
   ]
  },
  {
   "cell_type": "code",
   "execution_count": 5,
   "metadata": {
    "id": "Oo55xKVxqCCl"
   },
   "outputs": [],
   "source": [
    "# Image augmentation is a method of applying different kinds of transformation to original images resulting in multiple transformed copies of the same image. \n",
    "# The images are different from each other in certain aspects because of shifting, rotating, flipping techniques. \n",
    "# So, we are using the Keras ImageDataGenerator class to augment our images.\n",
    "#create an object of ImageDataGenerator, for augmenting train set\n",
    "train_datagen = ImageDataGenerator(rescale = 1./255,\n",
    "                                   shear_range = 0.2,\n",
    "                                   zoom_range = 0.2,\n",
    "                                   horizontal_flip = True)\n",
    "\n",
    "\n",
    "##create another object of ImageDataGenerator, for augmenting test set\n",
    "test_datagen = ImageDataGenerator(rescale = 1./255)\n"
   ]
  },
  {
   "cell_type": "code",
   "execution_count": null,
   "metadata": {},
   "outputs": [],
   "source": [
    "# we will use flow_from_directory(directory) method from Keras Official website to load images and apply augmentation. \n",
    "# This is why we structured the data folders in a specific way so that the class of each image can be identified from its folder name."
   ]
  },
  {
   "cell_type": "code",
   "execution_count": 6,
   "metadata": {
    "colab": {
     "base_uri": "https://localhost:8080/",
     "height": 452
    },
    "id": "qhCbVch_rKq9",
    "outputId": "2e6ee35b-0059-4c36-8eeb-fcb02f88a7db"
   },
   "outputs": [
    {
     "name": "stdout",
     "output_type": "stream",
     "text": [
      "Found 8000 images belonging to 2 classes.\n"
     ]
    }
   ],
   "source": [
    "#apply image augmentation on train set by resizing all images to 64x64 and creating batches of 32 images.\n",
    "training_set = train_datagen.flow_from_directory(r'C:\\Users\\M.komala\\OneDrive\\Desktop\\keras\\dog vs cat\\dataset\\training_set',\n",
    "                                                 target_size = (64, 64),\n",
    "                                                 batch_size = 30,\n",
    "                                                 class_mode = 'binary')\n"
   ]
  },
  {
   "cell_type": "code",
   "execution_count": 7,
   "metadata": {
    "id": "hlujVcwZrd2i"
   },
   "outputs": [
    {
     "name": "stdout",
     "output_type": "stream",
     "text": [
      "Found 2000 images belonging to 2 classes.\n"
     ]
    }
   ],
   "source": [
    "#apply image augmentation on test set by resizing all images to 64x64 and creating batches of 32 images.\n",
    "test_set = test_datagen.flow_from_directory(r'C:\\Users\\M.komala\\OneDrive\\Desktop\\keras\\dog vs cat\\dataset\\test_set',\n",
    "                                            target_size = (64, 64),\n",
    "                                            batch_size = 30,\n",
    "                                            class_mode = 'binary')"
   ]
  },
  {
   "cell_type": "code",
   "execution_count": 12,
   "metadata": {},
   "outputs": [
    {
     "name": "stderr",
     "output_type": "stream",
     "text": [
      "C:\\Users\\M.komala\\AppData\\Local\\Temp\\ipykernel_9924\\3171078237.py:1: UserWarning: `Model.fit_generator` is deprecated and will be removed in a future version. Please use `Model.fit`, which supports generators.\n",
      "  classifier.fit_generator(training_set,\n"
     ]
    },
    {
     "name": "stdout",
     "output_type": "stream",
     "text": [
      "Epoch 1/25\n",
      "250/250 [==============================] - 626s 2s/step - loss: 0.6608 - accuracy: 0.6036 - val_loss: 0.7445 - val_accuracy: 0.5519\n",
      "Epoch 2/25\n",
      "250/250 [==============================] - 338s 1s/step - loss: 0.5988 - accuracy: 0.6781 - val_loss: 0.5671 - val_accuracy: 0.7159\n",
      "Epoch 3/25\n",
      "250/250 [==============================] - 227s 910ms/step - loss: 0.5724 - accuracy: 0.7012 - val_loss: 0.5456 - val_accuracy: 0.7376\n",
      "Epoch 4/25\n",
      "250/250 [==============================] - 170s 678ms/step - loss: 0.5490 - accuracy: 0.7156 - val_loss: 0.5535 - val_accuracy: 0.7302\n",
      "Epoch 5/25\n",
      "250/250 [==============================] - 55s 220ms/step - loss: 0.5453 - accuracy: 0.7187 - val_loss: 0.5311 - val_accuracy: 0.7519\n",
      "Epoch 6/25\n",
      "250/250 [==============================] - 43s 173ms/step - loss: 0.5317 - accuracy: 0.7311 - val_loss: 0.5499 - val_accuracy: 0.7265\n",
      "Epoch 7/25\n",
      "250/250 [==============================] - 44s 174ms/step - loss: 0.5282 - accuracy: 0.7323 - val_loss: 0.5257 - val_accuracy: 0.7460\n",
      "Epoch 8/25\n",
      "250/250 [==============================] - 122s 490ms/step - loss: 0.5114 - accuracy: 0.7418 - val_loss: 0.5525 - val_accuracy: 0.7370\n",
      "Epoch 9/25\n",
      "250/250 [==============================] - 176s 703ms/step - loss: 0.4993 - accuracy: 0.7503 - val_loss: 0.5439 - val_accuracy: 0.7429\n",
      "Epoch 10/25\n",
      "250/250 [==============================] - 50s 200ms/step - loss: 0.4884 - accuracy: 0.7613 - val_loss: 0.5401 - val_accuracy: 0.7339\n",
      "Epoch 11/25\n",
      "250/250 [==============================] - 45s 178ms/step - loss: 0.4880 - accuracy: 0.7611 - val_loss: 0.5189 - val_accuracy: 0.7497\n",
      "Epoch 12/25\n",
      "250/250 [==============================] - 43s 173ms/step - loss: 0.4837 - accuracy: 0.7665 - val_loss: 0.5193 - val_accuracy: 0.7513\n",
      "Epoch 13/25\n",
      "250/250 [==============================] - 43s 173ms/step - loss: 0.4676 - accuracy: 0.7757 - val_loss: 0.6363 - val_accuracy: 0.6804\n",
      "Epoch 14/25\n",
      "250/250 [==============================] - 42s 168ms/step - loss: 0.4712 - accuracy: 0.7744 - val_loss: 0.5953 - val_accuracy: 0.7095\n",
      "Epoch 15/25\n",
      "250/250 [==============================] - 43s 171ms/step - loss: 0.4575 - accuracy: 0.7826 - val_loss: 0.5240 - val_accuracy: 0.7508\n",
      "Epoch 16/25\n",
      "250/250 [==============================] - 43s 174ms/step - loss: 0.4515 - accuracy: 0.7809 - val_loss: 0.5183 - val_accuracy: 0.7640\n",
      "Epoch 17/25\n",
      "250/250 [==============================] - 43s 170ms/step - loss: 0.4494 - accuracy: 0.7826 - val_loss: 0.5390 - val_accuracy: 0.7455\n",
      "Epoch 18/25\n",
      "250/250 [==============================] - 46s 186ms/step - loss: 0.4371 - accuracy: 0.7931 - val_loss: 0.5479 - val_accuracy: 0.7376\n",
      "Epoch 19/25\n",
      "250/250 [==============================] - 43s 170ms/step - loss: 0.4346 - accuracy: 0.7937 - val_loss: 0.5461 - val_accuracy: 0.7476\n",
      "Epoch 20/25\n",
      "250/250 [==============================] - 44s 174ms/step - loss: 0.4358 - accuracy: 0.7933 - val_loss: 0.5381 - val_accuracy: 0.7471\n",
      "Epoch 21/25\n",
      "250/250 [==============================] - 44s 174ms/step - loss: 0.4177 - accuracy: 0.8029 - val_loss: 0.5336 - val_accuracy: 0.7619\n",
      "Epoch 22/25\n",
      "250/250 [==============================] - 43s 172ms/step - loss: 0.4177 - accuracy: 0.8040 - val_loss: 0.5137 - val_accuracy: 0.7640\n",
      "Epoch 23/25\n",
      "250/250 [==============================] - 43s 170ms/step - loss: 0.4083 - accuracy: 0.8147 - val_loss: 0.5379 - val_accuracy: 0.7603\n",
      "Epoch 24/25\n",
      "250/250 [==============================] - 42s 168ms/step - loss: 0.4039 - accuracy: 0.8123 - val_loss: 0.5353 - val_accuracy: 0.7646\n",
      "Epoch 25/25\n",
      "250/250 [==============================] - 43s 171ms/step - loss: 0.3999 - accuracy: 0.8160 - val_loss: 0.5255 - val_accuracy: 0.7630\n"
     ]
    },
    {
     "data": {
      "text/plain": [
       "<keras.callbacks.History at 0x1a6736029b0>"
      ]
     },
     "execution_count": 12,
     "metadata": {},
     "output_type": "execute_result"
    }
   ],
   "source": [
    "\n",
    "classifier.fit_generator(training_set,\n",
    "                         steps_per_epoch = (8000/32),\n",
    "                         epochs = 25,\n",
    "                         validation_data = test_set,\n",
    "                         validation_steps = (2000/32))"
   ]
  },
  {
   "cell_type": "code",
   "execution_count": 13,
   "metadata": {},
   "outputs": [],
   "source": [
    "import numpy as np"
   ]
  },
  {
   "cell_type": "code",
   "execution_count": null,
   "metadata": {},
   "outputs": [],
   "source": [
    "# Predict the image 1"
   ]
  },
  {
   "cell_type": "code",
   "execution_count": 19,
   "metadata": {},
   "outputs": [],
   "source": [
    "from keras.preprocessing import image"
   ]
  },
  {
   "cell_type": "code",
   "execution_count": 25,
   "metadata": {},
   "outputs": [],
   "source": [
    "import tensorflow as tf"
   ]
  },
  {
   "cell_type": "code",
   "execution_count": 28,
   "metadata": {},
   "outputs": [],
   "source": [
    "import keras"
   ]
  },
  {
   "cell_type": "code",
   "execution_count": 55,
   "metadata": {},
   "outputs": [],
   "source": [
    "test_image =  keras.utils.load_img(r'C:\\Users\\M.komala\\OneDrive\\Desktop\\keras\\CNN\\data\\test\\test set\\111 (1).jpg', \n",
    "                            target_size = (64, 64))"
   ]
  },
  {
   "cell_type": "code",
   "execution_count": 56,
   "metadata": {
    "scrolled": false
   },
   "outputs": [
    {
     "data": {
      "image/png": "[encoded data removed]",
      "text/plain": [
       "<PIL.Image.Image image mode=RGB size=64x64>"
      ]
     },
     "execution_count": 56,
     "metadata": {},
     "output_type": "execute_result"
    }
   ],
   "source": [
    "test_image"
   ]
  },
  {
   "cell_type": "code",
   "execution_count": 40,
   "metadata": {},
   "outputs": [],
   "source": [
    "from keras.utils import np_utils"
   ]
  },
  {
   "cell_type": "code",
   "execution_count": 57,
   "metadata": {},
   "outputs": [],
   "source": [
    "#add channel dimension for image\n",
    "test_image = tf.keras.utils.img_to_array(test_image)"
   ]
  },
  {
   "cell_type": "code",
   "execution_count": 59,
   "metadata": {},
   "outputs": [],
   "source": [
    "##add batch dimension for image\n",
    "test_image = np.expand_dims(test_image, axis = 0)"
   ]
  },
  {
   "cell_type": "code",
   "execution_count": 60,
   "metadata": {},
   "outputs": [
    {
     "name": "stdout",
     "output_type": "stream",
     "text": [
      "1/1 [==============================] - 0s 203ms/step\n"
     ]
    }
   ],
   "source": [
    "result = classifier.predict(test_image)"
   ]
  },
  {
   "cell_type": "code",
   "execution_count": 61,
   "metadata": {
    "scrolled": true
   },
   "outputs": [
    {
     "data": {
      "text/plain": [
       "array([[1.]], dtype=float32)"
      ]
     },
     "execution_count": 61,
     "metadata": {},
     "output_type": "execute_result"
    }
   ],
   "source": [
    "result"
   ]
  },
  {
   "cell_type": "code",
   "execution_count": 64,
   "metadata": {},
   "outputs": [
    {
     "name": "stdout",
     "output_type": "stream",
     "text": [
      "It is a Dog Image\n"
     ]
    }
   ],
   "source": [
    "if result [0][0] ==0:\n",
    "    print('It is a Cat Image')\n",
    "else:\n",
    "    print('It is a Dog Image')"
   ]
  },
  {
   "cell_type": "code",
   "execution_count": 63,
   "metadata": {},
   "outputs": [
    {
     "data": {
      "text/plain": [
       "{'cats': 0, 'dogs': 1}"
      ]
     },
     "execution_count": 63,
     "metadata": {},
     "output_type": "execute_result"
    }
   ],
   "source": [
    "training_set.class_indices\n",
    "\n",
    "# when the output is '0' it is cat\n",
    "# when the output is '1' it is Dog"
   ]
  },
  {
   "cell_type": "code",
   "execution_count": null,
   "metadata": {},
   "outputs": [],
   "source": [
    "# Predict 2nd Image"
   ]
  },
  {
   "cell_type": "code",
   "execution_count": 71,
   "metadata": {},
   "outputs": [],
   "source": [
    "test_image1 =  keras.utils.load_img(r'C:\\Users\\M.komala\\OneDrive\\Desktop\\keras\\CNN\\data\\train\\train set\\9.jpg',\n",
    "                                    target_size = (64, 64))\n",
    "\n",
    "test_image1 = tf.keras.utils.img_to_array(test_image1)"
   ]
  },
  {
   "cell_type": "code",
   "execution_count": 74,
   "metadata": {},
   "outputs": [],
   "source": [
    "##add batch dimension for image\n",
    "test_image1 = np.expand_dims(test_image1, axis = 0)"
   ]
  },
  {
   "cell_type": "code",
   "execution_count": 76,
   "metadata": {},
   "outputs": [
    {
     "name": "stdout",
     "output_type": "stream",
     "text": [
      "1/1 [==============================] - 0s 219ms/step\n"
     ]
    }
   ],
   "source": [
    "result = classifier.predict(test_image1)"
   ]
  },
  {
   "cell_type": "code",
   "execution_count": 77,
   "metadata": {},
   "outputs": [
    {
     "data": {
      "text/plain": [
       "array([[0.]], dtype=float32)"
      ]
     },
     "execution_count": 77,
     "metadata": {},
     "output_type": "execute_result"
    }
   ],
   "source": [
    "result"
   ]
  },
  {
   "cell_type": "code",
   "execution_count": 78,
   "metadata": {},
   "outputs": [
    {
     "name": "stdout",
     "output_type": "stream",
     "text": [
      "It is a Cat Image\n"
     ]
    }
   ],
   "source": [
    "if result [0][0] ==0:\n",
    "    print('It is a Cat Image')\n",
    "else:\n",
    "    print('It is a Dog Image')"
   ]
  }
 ],
 "metadata": {
  "colab": {
   "collapsed_sections": [],
   "name": "Untitled2.ipynb",
   "provenance": []
  },
  "kernelspec": {
   "display_name": "Python 3 (ipykernel)",
   "language": "python",
   "name": "python3"
  },
  "language_info": {
   "codemirror_mode": {
    "name": "ipython",
    "version": 3
   },
   "file_extension": ".py",
   "mimetype": "text/x-python",
   "name": "python",
   "nbconvert_exporter": "python",
   "pygments_lexer": "ipython3",
   "version": "3.10.4"
  }
 },
 "nbformat": 4,
 "nbformat_minor": 1
}
